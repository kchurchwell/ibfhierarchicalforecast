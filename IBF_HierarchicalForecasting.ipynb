{
 "cells": [
  {
   "cell_type": "code",
   "execution_count": 1,
   "metadata": {
    "id": "AhP35YawTEv8"
   },
   "outputs": [],
   "source": [
    "# !pip install hierarchicalforecast\n",
    "# !pip install -U statsforecast numba"
   ]
  },
  {
   "cell_type": "code",
   "execution_count": null,
   "metadata": {},
   "outputs": [],
   "source": [
    "# !pip install quadprog"
   ]
  },
  {
   "cell_type": "code",
   "execution_count": null,
   "metadata": {},
   "outputs": [],
   "source": [
    "# !pip install hierarchicalforecast"
   ]
  },
  {
   "cell_type": "code",
   "execution_count": 1,
   "metadata": {
    "id": "uhgbRtVTTEv9"
   },
   "outputs": [],
   "source": [
    "import numpy as np\n",
    "import pandas as pd"
   ]
  },
  {
   "cell_type": "markdown",
   "metadata": {},
   "source": [
    "Load up the data file"
   ]
  },
  {
   "cell_type": "code",
   "execution_count": 87,
   "metadata": {
    "colab": {
     "base_uri": "https://localhost:8080/",
     "height": 206
    },
    "id": "Cv_tUCWdTEv-",
    "outputId": "3dde6a6c-64a6-402a-9b35-a51914fcf62c"
   },
   "outputs": [
    {
     "data": {
      "text/html": [
       "<div>\n",
       "<style scoped>\n",
       "    .dataframe tbody tr th:only-of-type {\n",
       "        vertical-align: middle;\n",
       "    }\n",
       "\n",
       "    .dataframe tbody tr th {\n",
       "        vertical-align: top;\n",
       "    }\n",
       "\n",
       "    .dataframe thead th {\n",
       "        text-align: right;\n",
       "    }\n",
       "</style>\n",
       "<table border=\"1\" class=\"dataframe\">\n",
       "  <thead>\n",
       "    <tr style=\"text-align: right;\">\n",
       "      <th></th>\n",
       "      <th>State</th>\n",
       "      <th>Region</th>\n",
       "      <th>Product</th>\n",
       "      <th>ds</th>\n",
       "      <th>y</th>\n",
       "    </tr>\n",
       "  </thead>\n",
       "  <tbody>\n",
       "    <tr>\n",
       "      <th>0</th>\n",
       "      <td>Louisiana</td>\n",
       "      <td>Acadiana</td>\n",
       "      <td>Term Life</td>\n",
       "      <td>1998-01-01</td>\n",
       "      <td>135.08</td>\n",
       "    </tr>\n",
       "    <tr>\n",
       "      <th>1</th>\n",
       "      <td>Louisiana</td>\n",
       "      <td>Acadiana</td>\n",
       "      <td>Term Life</td>\n",
       "      <td>1998-04-01</td>\n",
       "      <td>109.99</td>\n",
       "    </tr>\n",
       "    <tr>\n",
       "      <th>2</th>\n",
       "      <td>Louisiana</td>\n",
       "      <td>Acadiana</td>\n",
       "      <td>Term Life</td>\n",
       "      <td>1998-07-01</td>\n",
       "      <td>166.03</td>\n",
       "    </tr>\n",
       "    <tr>\n",
       "      <th>3</th>\n",
       "      <td>Louisiana</td>\n",
       "      <td>Acadiana</td>\n",
       "      <td>Term Life</td>\n",
       "      <td>1998-10-01</td>\n",
       "      <td>127.16</td>\n",
       "    </tr>\n",
       "    <tr>\n",
       "      <th>4</th>\n",
       "      <td>Louisiana</td>\n",
       "      <td>Acadiana</td>\n",
       "      <td>Term Life</td>\n",
       "      <td>1999-01-01</td>\n",
       "      <td>137.45</td>\n",
       "    </tr>\n",
       "  </tbody>\n",
       "</table>\n",
       "</div>"
      ],
      "text/plain": [
       "       State    Region    Product          ds       y\n",
       "0  Louisiana  Acadiana  Term Life  1998-01-01  135.08\n",
       "1  Louisiana  Acadiana  Term Life  1998-04-01  109.99\n",
       "2  Louisiana  Acadiana  Term Life  1998-07-01  166.03\n",
       "3  Louisiana  Acadiana  Term Life  1998-10-01  127.16\n",
       "4  Louisiana  Acadiana  Term Life  1999-01-01  137.45"
      ]
     },
     "execution_count": 87,
     "metadata": {},
     "output_type": "execute_result"
    }
   ],
   "source": [
    "Y_df = pd.read_csv('C:\\\\Users\\\\K05048\\\\Desktop\\\\IBF\\\\LIFESalesJanuary1998_October2017.csv')\n",
    "Y_df.head()"
   ]
  },
  {
   "cell_type": "markdown",
   "metadata": {
    "id": "DbMF5r3pTEv-"
   },
   "source": [
    "Define the Hierarchical structure by the columns"
   ]
  },
  {
   "cell_type": "code",
   "execution_count": 88,
   "metadata": {
    "id": "HL6MbX6gTEv-"
   },
   "outputs": [],
   "source": [
    "hierarchy_spec = [\n",
    "    ['State'],\n",
    "    ['State', 'Region'],\n",
    "    ['State', 'Region', 'Product']\n",
    "]"
   ]
  },
  {
   "cell_type": "markdown",
   "metadata": {
    "id": "UvQdDlxYTEv_"
   },
   "source": [
    "Use the aggregate function to set up the tags, and Summing table for computation"
   ]
  },
  {
   "cell_type": "code",
   "execution_count": 89,
   "metadata": {
    "id": "ksvU_H4JTEv_"
   },
   "outputs": [],
   "source": [
    "from hierarchicalforecast.utils import aggregate"
   ]
  },
  {
   "cell_type": "code",
   "execution_count": 90,
   "metadata": {
    "id": "JTsklWkvTEv_"
   },
   "outputs": [],
   "source": [
    "Y_df, S_df, tags = aggregate(Y_df, hierarchy_spec)\n",
    "Y_df = Y_df.reset_index()"
   ]
  },
  {
   "cell_type": "markdown",
   "metadata": {},
   "source": [
    "The Unique_id field holds the tags, which are the combination of the State, Region and Product fields."
   ]
  },
  {
   "cell_type": "code",
   "execution_count": 91,
   "metadata": {
    "colab": {
     "base_uri": "https://localhost:8080/",
     "height": 206
    },
    "id": "UMHnxqSgTEv_",
    "outputId": "ff14adcb-b2d9-404f-c130-b1048d58840f"
   },
   "outputs": [
    {
     "data": {
      "text/html": [
       "<div>\n",
       "<style scoped>\n",
       "    .dataframe tbody tr th:only-of-type {\n",
       "        vertical-align: middle;\n",
       "    }\n",
       "\n",
       "    .dataframe tbody tr th {\n",
       "        vertical-align: top;\n",
       "    }\n",
       "\n",
       "    .dataframe thead th {\n",
       "        text-align: right;\n",
       "    }\n",
       "</style>\n",
       "<table border=\"1\" class=\"dataframe\">\n",
       "  <thead>\n",
       "    <tr style=\"text-align: right;\">\n",
       "      <th></th>\n",
       "      <th>unique_id</th>\n",
       "      <th>ds</th>\n",
       "      <th>y</th>\n",
       "    </tr>\n",
       "  </thead>\n",
       "  <tbody>\n",
       "    <tr>\n",
       "      <th>0</th>\n",
       "      <td>Louisiana</td>\n",
       "      <td>1998-01-01</td>\n",
       "      <td>23182.23</td>\n",
       "    </tr>\n",
       "    <tr>\n",
       "      <th>1</th>\n",
       "      <td>Louisiana</td>\n",
       "      <td>1998-04-01</td>\n",
       "      <td>20323.38</td>\n",
       "    </tr>\n",
       "    <tr>\n",
       "      <th>2</th>\n",
       "      <td>Louisiana</td>\n",
       "      <td>1998-07-01</td>\n",
       "      <td>19826.70</td>\n",
       "    </tr>\n",
       "    <tr>\n",
       "      <th>3</th>\n",
       "      <td>Louisiana</td>\n",
       "      <td>1998-10-01</td>\n",
       "      <td>20830.13</td>\n",
       "    </tr>\n",
       "    <tr>\n",
       "      <th>4</th>\n",
       "      <td>Louisiana</td>\n",
       "      <td>1999-01-01</td>\n",
       "      <td>22087.48</td>\n",
       "    </tr>\n",
       "  </tbody>\n",
       "</table>\n",
       "</div>"
      ],
      "text/plain": [
       "   unique_id          ds         y\n",
       "0  Louisiana  1998-01-01  23182.23\n",
       "1  Louisiana  1998-04-01  20323.38\n",
       "2  Louisiana  1998-07-01  19826.70\n",
       "3  Louisiana  1998-10-01  20830.13\n",
       "4  Louisiana  1999-01-01  22087.48"
      ]
     },
     "execution_count": 91,
     "metadata": {},
     "output_type": "execute_result"
    }
   ],
   "source": [
    "Y_df.head()"
   ]
  },
  {
   "cell_type": "code",
   "execution_count": 93,
   "metadata": {},
   "outputs": [
    {
     "data": {
      "text/plain": [
       "['Louisiana',\n",
       " 'Louisiana/Acadiana',\n",
       " 'Louisiana/Bayou',\n",
       " 'Louisiana/Central Louisiana',\n",
       " 'Louisiana/Florida Parishes',\n",
       " 'Louisiana/Greater New Orleans',\n",
       " 'Louisiana/North Lake',\n",
       " 'Louisiana/North Louisiana',\n",
       " 'Louisiana/Southwest Louisiana',\n",
       " 'Louisiana/Acadiana/Annuities',\n",
       " 'Louisiana/Acadiana/Term Life',\n",
       " 'Louisiana/Acadiana/Whole Life',\n",
       " 'Louisiana/Bayou/Annuities',\n",
       " 'Louisiana/Bayou/Term Life',\n",
       " 'Louisiana/Bayou/Whole Life',\n",
       " 'Louisiana/Central Louisiana/Annuities',\n",
       " 'Louisiana/Central Louisiana/Term Life',\n",
       " 'Louisiana/Central Louisiana/Whole Life',\n",
       " 'Louisiana/Florida Parishes/Annuities',\n",
       " 'Louisiana/Florida Parishes/Term Life',\n",
       " 'Louisiana/Florida Parishes/Whole Life',\n",
       " 'Louisiana/Greater New Orleans/Annuities',\n",
       " 'Louisiana/Greater New Orleans/Term Life',\n",
       " 'Louisiana/Greater New Orleans/Whole Life',\n",
       " 'Louisiana/North Lake/Annuities',\n",
       " 'Louisiana/North Lake/Term Life',\n",
       " 'Louisiana/North Lake/Whole Life',\n",
       " 'Louisiana/North Louisiana/Annuities',\n",
       " 'Louisiana/North Louisiana/Term Life',\n",
       " 'Louisiana/North Louisiana/Whole Life',\n",
       " 'Louisiana/Southwest Louisiana/Annuities',\n",
       " 'Louisiana/Southwest Louisiana/Term Life',\n",
       " 'Louisiana/Southwest Louisiana/Whole Life']"
      ]
     },
     "execution_count": 93,
     "metadata": {},
     "output_type": "execute_result"
    }
   ],
   "source": [
    "Y_df.unique_id.unique().tolist()"
   ]
  },
  {
   "cell_type": "markdown",
   "metadata": {},
   "source": [
    "Summing table below"
   ]
  },
  {
   "cell_type": "code",
   "execution_count": 94,
   "metadata": {
    "colab": {
     "base_uri": "https://localhost:8080/",
     "height": 324
    },
    "id": "J7xjZJcPTEv_",
    "outputId": "d2225a72-ab19-4b14-e6cc-2feb4ccd428b"
   },
   "outputs": [
    {
     "data": {
      "text/html": [
       "<div>\n",
       "<style scoped>\n",
       "    .dataframe tbody tr th:only-of-type {\n",
       "        vertical-align: middle;\n",
       "    }\n",
       "\n",
       "    .dataframe tbody tr th {\n",
       "        vertical-align: top;\n",
       "    }\n",
       "\n",
       "    .dataframe thead th {\n",
       "        text-align: right;\n",
       "    }\n",
       "</style>\n",
       "<table border=\"1\" class=\"dataframe\">\n",
       "  <thead>\n",
       "    <tr style=\"text-align: right;\">\n",
       "      <th></th>\n",
       "      <th>Louisiana/Acadiana/Annuities</th>\n",
       "      <th>Louisiana/Acadiana/Term Life</th>\n",
       "      <th>Louisiana/Acadiana/Whole Life</th>\n",
       "      <th>Louisiana/Bayou/Annuities</th>\n",
       "      <th>Louisiana/Bayou/Term Life</th>\n",
       "      <th>Louisiana/Bayou/Whole Life</th>\n",
       "    </tr>\n",
       "  </thead>\n",
       "  <tbody>\n",
       "    <tr>\n",
       "      <th>Louisiana</th>\n",
       "      <td>1.0</td>\n",
       "      <td>1.0</td>\n",
       "      <td>1.0</td>\n",
       "      <td>1.0</td>\n",
       "      <td>1.0</td>\n",
       "      <td>1.0</td>\n",
       "    </tr>\n",
       "    <tr>\n",
       "      <th>Louisiana/Acadiana</th>\n",
       "      <td>1.0</td>\n",
       "      <td>1.0</td>\n",
       "      <td>1.0</td>\n",
       "      <td>0.0</td>\n",
       "      <td>0.0</td>\n",
       "      <td>0.0</td>\n",
       "    </tr>\n",
       "    <tr>\n",
       "      <th>Louisiana/Bayou</th>\n",
       "      <td>0.0</td>\n",
       "      <td>0.0</td>\n",
       "      <td>0.0</td>\n",
       "      <td>1.0</td>\n",
       "      <td>1.0</td>\n",
       "      <td>1.0</td>\n",
       "    </tr>\n",
       "    <tr>\n",
       "      <th>Louisiana/Central Louisiana</th>\n",
       "      <td>0.0</td>\n",
       "      <td>0.0</td>\n",
       "      <td>0.0</td>\n",
       "      <td>0.0</td>\n",
       "      <td>0.0</td>\n",
       "      <td>0.0</td>\n",
       "    </tr>\n",
       "    <tr>\n",
       "      <th>Louisiana/Florida Parishes</th>\n",
       "      <td>0.0</td>\n",
       "      <td>0.0</td>\n",
       "      <td>0.0</td>\n",
       "      <td>0.0</td>\n",
       "      <td>0.0</td>\n",
       "      <td>0.0</td>\n",
       "    </tr>\n",
       "    <tr>\n",
       "      <th>Louisiana/Greater New Orleans</th>\n",
       "      <td>0.0</td>\n",
       "      <td>0.0</td>\n",
       "      <td>0.0</td>\n",
       "      <td>0.0</td>\n",
       "      <td>0.0</td>\n",
       "      <td>0.0</td>\n",
       "    </tr>\n",
       "  </tbody>\n",
       "</table>\n",
       "</div>"
      ],
      "text/plain": [
       "                               Louisiana/Acadiana/Annuities  \\\n",
       "Louisiana                                               1.0   \n",
       "Louisiana/Acadiana                                      1.0   \n",
       "Louisiana/Bayou                                         0.0   \n",
       "Louisiana/Central Louisiana                             0.0   \n",
       "Louisiana/Florida Parishes                              0.0   \n",
       "Louisiana/Greater New Orleans                           0.0   \n",
       "\n",
       "                               Louisiana/Acadiana/Term Life  \\\n",
       "Louisiana                                               1.0   \n",
       "Louisiana/Acadiana                                      1.0   \n",
       "Louisiana/Bayou                                         0.0   \n",
       "Louisiana/Central Louisiana                             0.0   \n",
       "Louisiana/Florida Parishes                              0.0   \n",
       "Louisiana/Greater New Orleans                           0.0   \n",
       "\n",
       "                               Louisiana/Acadiana/Whole Life  \\\n",
       "Louisiana                                                1.0   \n",
       "Louisiana/Acadiana                                       1.0   \n",
       "Louisiana/Bayou                                          0.0   \n",
       "Louisiana/Central Louisiana                              0.0   \n",
       "Louisiana/Florida Parishes                               0.0   \n",
       "Louisiana/Greater New Orleans                            0.0   \n",
       "\n",
       "                               Louisiana/Bayou/Annuities  \\\n",
       "Louisiana                                            1.0   \n",
       "Louisiana/Acadiana                                   0.0   \n",
       "Louisiana/Bayou                                      1.0   \n",
       "Louisiana/Central Louisiana                          0.0   \n",
       "Louisiana/Florida Parishes                           0.0   \n",
       "Louisiana/Greater New Orleans                        0.0   \n",
       "\n",
       "                               Louisiana/Bayou/Term Life  \\\n",
       "Louisiana                                            1.0   \n",
       "Louisiana/Acadiana                                   0.0   \n",
       "Louisiana/Bayou                                      1.0   \n",
       "Louisiana/Central Louisiana                          0.0   \n",
       "Louisiana/Florida Parishes                           0.0   \n",
       "Louisiana/Greater New Orleans                        0.0   \n",
       "\n",
       "                               Louisiana/Bayou/Whole Life  \n",
       "Louisiana                                             1.0  \n",
       "Louisiana/Acadiana                                    0.0  \n",
       "Louisiana/Bayou                                       1.0  \n",
       "Louisiana/Central Louisiana                           0.0  \n",
       "Louisiana/Florida Parishes                            0.0  \n",
       "Louisiana/Greater New Orleans                         0.0  "
      ]
     },
     "execution_count": 94,
     "metadata": {},
     "output_type": "execute_result"
    }
   ],
   "source": [
    "S_df.iloc[:6, :6]"
   ]
  },
  {
   "cell_type": "markdown",
   "metadata": {},
   "source": [
    "Tags structure will be used for reconcilliation"
   ]
  },
  {
   "cell_type": "code",
   "execution_count": 8,
   "metadata": {
    "colab": {
     "base_uri": "https://localhost:8080/"
    },
    "id": "u5c7hQ0CTEv_",
    "outputId": "0dc30881-ade2-4e13-e081-d623758b29e6"
   },
   "outputs": [
    {
     "data": {
      "text/plain": [
       "array(['Louisiana/Acadiana/Annuities', 'Louisiana/Acadiana/Term Life',\n",
       "       'Louisiana/Acadiana/Whole Life', 'Louisiana/Bayou/Annuities',\n",
       "       'Louisiana/Bayou/Term Life', 'Louisiana/Bayou/Whole Life',\n",
       "       'Louisiana/Central Louisiana/Annuities',\n",
       "       'Louisiana/Central Louisiana/Term Life',\n",
       "       'Louisiana/Central Louisiana/Whole Life',\n",
       "       'Louisiana/Florida Parishes/Annuities',\n",
       "       'Louisiana/Florida Parishes/Term Life',\n",
       "       'Louisiana/Florida Parishes/Whole Life',\n",
       "       'Louisiana/Greater New Orleans/Annuities',\n",
       "       'Louisiana/Greater New Orleans/Term Life',\n",
       "       'Louisiana/Greater New Orleans/Whole Life',\n",
       "       'Louisiana/North Lake/Annuities', 'Louisiana/North Lake/Term Life',\n",
       "       'Louisiana/North Lake/Whole Life',\n",
       "       'Louisiana/North Louisiana/Annuities',\n",
       "       'Louisiana/North Louisiana/Term Life',\n",
       "       'Louisiana/North Louisiana/Whole Life',\n",
       "       'Louisiana/Southwest Louisiana/Annuities',\n",
       "       'Louisiana/Southwest Louisiana/Term Life',\n",
       "       'Louisiana/Southwest Louisiana/Whole Life'], dtype=object)"
      ]
     },
     "execution_count": 8,
     "metadata": {},
     "output_type": "execute_result"
    }
   ],
   "source": [
    "tags['State/Region/Product']"
   ]
  },
  {
   "cell_type": "markdown",
   "metadata": {
    "id": "KSSO0DmyTEv_"
   },
   "source": [
    "Split the Training and Test data data - Test will be the last 8 quarters"
   ]
  },
  {
   "cell_type": "code",
   "execution_count": 9,
   "metadata": {
    "id": "wLZL0hcKTEv_"
   },
   "outputs": [],
   "source": [
    "Y_test_df = Y_df.groupby('unique_id').tail(8)\n",
    "Y_train_df = Y_df.drop(Y_test_df.index)"
   ]
  },
  {
   "cell_type": "code",
   "execution_count": 10,
   "metadata": {
    "id": "iMQb5LtOTEv_"
   },
   "outputs": [],
   "source": [
    "Y_test_df = Y_test_df.set_index('unique_id')\n",
    "Y_train_df = Y_train_df.set_index('unique_id')"
   ]
  },
  {
   "cell_type": "code",
   "execution_count": 11,
   "metadata": {
    "colab": {
     "base_uri": "https://localhost:8080/"
    },
    "id": "GQhhCJIbTEv_",
    "outputId": "86a9d393-26e2-4f80-e42e-1581a2e55f67"
   },
   "outputs": [
    {
     "data": {
      "text/plain": [
       "unique_id\n",
       "Louisiana                                   72\n",
       "Louisiana/Acadiana                          72\n",
       "Louisiana/Acadiana/Annuities                72\n",
       "Louisiana/Acadiana/Term Life                72\n",
       "Louisiana/Acadiana/Whole Life               72\n",
       "Louisiana/Bayou                             72\n",
       "Louisiana/Bayou/Annuities                   72\n",
       "Louisiana/Bayou/Term Life                   72\n",
       "Louisiana/Bayou/Whole Life                  72\n",
       "Louisiana/Central Louisiana                 72\n",
       "Louisiana/Central Louisiana/Annuities       72\n",
       "Louisiana/Central Louisiana/Term Life       72\n",
       "Louisiana/Central Louisiana/Whole Life      72\n",
       "Louisiana/Florida Parishes                  72\n",
       "Louisiana/Florida Parishes/Annuities        72\n",
       "Louisiana/Florida Parishes/Term Life        72\n",
       "Louisiana/Florida Parishes/Whole Life       72\n",
       "Louisiana/Greater New Orleans               72\n",
       "Louisiana/Greater New Orleans/Annuities     72\n",
       "Louisiana/Greater New Orleans/Term Life     72\n",
       "Louisiana/Greater New Orleans/Whole Life    72\n",
       "Louisiana/North Lake                        72\n",
       "Louisiana/North Lake/Annuities              72\n",
       "Louisiana/North Lake/Term Life              72\n",
       "Louisiana/North Lake/Whole Life             72\n",
       "Louisiana/North Louisiana                   72\n",
       "Louisiana/North Louisiana/Annuities         72\n",
       "Louisiana/North Louisiana/Term Life         72\n",
       "Louisiana/North Louisiana/Whole Life        72\n",
       "Louisiana/Southwest Louisiana               72\n",
       "Louisiana/Southwest Louisiana/Annuities     72\n",
       "Louisiana/Southwest Louisiana/Term Life     72\n",
       "Louisiana/Southwest Louisiana/Whole Life    72\n",
       "dtype: int64"
      ]
     },
     "execution_count": 11,
     "metadata": {},
     "output_type": "execute_result"
    }
   ],
   "source": [
    "Y_train_df.groupby('unique_id').size()"
   ]
  },
  {
   "cell_type": "markdown",
   "metadata": {
    "id": "aIBbDrQOTEwA"
   },
   "source": [
    "Compute the base forecasts using AutoETS - this is the forecast for each unique identifier - aka Tag"
   ]
  },
  {
   "cell_type": "code",
   "execution_count": 15,
   "metadata": {
    "id": "TZPsItIwTEwA"
   },
   "outputs": [],
   "source": [
    "from statsforecast.models import AutoETS\n",
    "from statsforecast.core import StatsForecast"
   ]
  },
  {
   "cell_type": "code",
   "execution_count": 16,
   "metadata": {
    "id": "Flhl0vCVTEwA"
   },
   "outputs": [
    {
     "name": "stderr",
     "output_type": "stream",
     "text": [
      "C:\\Users\\K05048\\AppData\\Local\\anaconda3\\Lib\\site-packages\\statsforecast\\core.py:399: FutureWarning: The `df` argument of the StatsForecast constructor as well as reusing stored dfs from other methods is deprecated and will raise an error in a future version. Please provide the `df` argument to the corresponding method instead, e.g. fit/forecast.\n",
      "  warnings.warn(\n",
      "C:\\Users\\K05048\\AppData\\Local\\anaconda3\\Lib\\site-packages\\statsforecast\\core.py:551: FutureWarning: Passing unique_id as the index is deprecated. Please provide it as a column instead.\n",
      "  warnings.warn(\n",
      "C:\\Users\\K05048\\AppData\\Local\\anaconda3\\Lib\\site-packages\\statsforecast\\core.py:399: FutureWarning: The `df` argument of the StatsForecast constructor as well as reusing stored dfs from other methods is deprecated and will raise an error in a future version. Please provide the `df` argument to the corresponding method instead, e.g. fit/forecast.\n",
      "  warnings.warn(\n",
      "C:\\Users\\K05048\\AppData\\Local\\anaconda3\\Lib\\site-packages\\statsforecast\\core.py:417: FutureWarning: In a future version the predictions will have the id as a column. You can set the `NIXTLA_ID_AS_COL` environment variable to adopt the new behavior and to suppress this warning.\n",
      "  warnings.warn(\n",
      "C:\\Users\\K05048\\AppData\\Local\\anaconda3\\Lib\\site-packages\\statsforecast\\core.py:417: FutureWarning: In a future version the predictions will have the id as a column. You can set the `NIXTLA_ID_AS_COL` environment variable to adopt the new behavior and to suppress this warning.\n",
      "  warnings.warn(\n"
     ]
    }
   ],
   "source": [
    "fcst = StatsForecast(df=Y_train_df,\n",
    "                     models=[AutoETS(season_length=4, model='ZZZ')],\n",
    "                     freq='QS', n_jobs=-1)\n",
    "Y_hat_df = fcst.forecast(h=8, fitted=True)\n",
    "Y_fitted_df = fcst.forecast_fitted_values()"
   ]
  },
  {
   "cell_type": "markdown",
   "metadata": {},
   "source": [
    "Y_hat_df is the dataframe holding the forecast - of the test dataset"
   ]
  },
  {
   "cell_type": "code",
   "execution_count": 96,
   "metadata": {},
   "outputs": [
    {
     "data": {
      "text/html": [
       "<div>\n",
       "<style scoped>\n",
       "    .dataframe tbody tr th:only-of-type {\n",
       "        vertical-align: middle;\n",
       "    }\n",
       "\n",
       "    .dataframe tbody tr th {\n",
       "        vertical-align: top;\n",
       "    }\n",
       "\n",
       "    .dataframe thead th {\n",
       "        text-align: right;\n",
       "    }\n",
       "</style>\n",
       "<table border=\"1\" class=\"dataframe\">\n",
       "  <thead>\n",
       "    <tr style=\"text-align: right;\">\n",
       "      <th></th>\n",
       "      <th>ds</th>\n",
       "      <th>AutoETS</th>\n",
       "    </tr>\n",
       "    <tr>\n",
       "      <th>unique_id</th>\n",
       "      <th></th>\n",
       "      <th></th>\n",
       "    </tr>\n",
       "  </thead>\n",
       "  <tbody>\n",
       "    <tr>\n",
       "      <th>Louisiana</th>\n",
       "      <td>2016-01-01</td>\n",
       "      <td>26291.796875</td>\n",
       "    </tr>\n",
       "    <tr>\n",
       "      <th>Louisiana</th>\n",
       "      <td>2016-04-01</td>\n",
       "      <td>24458.884766</td>\n",
       "    </tr>\n",
       "    <tr>\n",
       "      <th>Louisiana</th>\n",
       "      <td>2016-07-01</td>\n",
       "      <td>23870.267578</td>\n",
       "    </tr>\n",
       "    <tr>\n",
       "      <th>Louisiana</th>\n",
       "      <td>2016-10-01</td>\n",
       "      <td>24587.351562</td>\n",
       "    </tr>\n",
       "    <tr>\n",
       "      <th>Louisiana</th>\n",
       "      <td>2017-01-01</td>\n",
       "      <td>26291.796875</td>\n",
       "    </tr>\n",
       "  </tbody>\n",
       "</table>\n",
       "</div>"
      ],
      "text/plain": [
       "                  ds       AutoETS\n",
       "unique_id                         \n",
       "Louisiana 2016-01-01  26291.796875\n",
       "Louisiana 2016-04-01  24458.884766\n",
       "Louisiana 2016-07-01  23870.267578\n",
       "Louisiana 2016-10-01  24587.351562\n",
       "Louisiana 2017-01-01  26291.796875"
      ]
     },
     "execution_count": 96,
     "metadata": {},
     "output_type": "execute_result"
    }
   ],
   "source": [
    "Y_hat_df.head() "
   ]
  },
  {
   "cell_type": "markdown",
   "metadata": {},
   "source": [
    "Y_fitted_df is the dataframe holding the actuals and fitted values of the training dataset."
   ]
  },
  {
   "cell_type": "code",
   "execution_count": 97,
   "metadata": {},
   "outputs": [
    {
     "data": {
      "text/html": [
       "<div>\n",
       "<style scoped>\n",
       "    .dataframe tbody tr th:only-of-type {\n",
       "        vertical-align: middle;\n",
       "    }\n",
       "\n",
       "    .dataframe tbody tr th {\n",
       "        vertical-align: top;\n",
       "    }\n",
       "\n",
       "    .dataframe thead th {\n",
       "        text-align: right;\n",
       "    }\n",
       "</style>\n",
       "<table border=\"1\" class=\"dataframe\">\n",
       "  <thead>\n",
       "    <tr style=\"text-align: right;\">\n",
       "      <th></th>\n",
       "      <th>ds</th>\n",
       "      <th>y</th>\n",
       "      <th>AutoETS</th>\n",
       "    </tr>\n",
       "    <tr>\n",
       "      <th>unique_id</th>\n",
       "      <th></th>\n",
       "      <th></th>\n",
       "      <th></th>\n",
       "    </tr>\n",
       "  </thead>\n",
       "  <tbody>\n",
       "    <tr>\n",
       "      <th>Louisiana</th>\n",
       "      <td>1998-01-01</td>\n",
       "      <td>23182.230469</td>\n",
       "      <td>22599.873047</td>\n",
       "    </tr>\n",
       "    <tr>\n",
       "      <th>Louisiana</th>\n",
       "      <td>1998-04-01</td>\n",
       "      <td>20323.380859</td>\n",
       "      <td>21312.443359</td>\n",
       "    </tr>\n",
       "    <tr>\n",
       "      <th>Louisiana</th>\n",
       "      <td>1998-07-01</td>\n",
       "      <td>19826.699219</td>\n",
       "      <td>20286.250000</td>\n",
       "    </tr>\n",
       "    <tr>\n",
       "      <th>Louisiana</th>\n",
       "      <td>1998-10-01</td>\n",
       "      <td>20830.130859</td>\n",
       "      <td>20643.957031</td>\n",
       "    </tr>\n",
       "    <tr>\n",
       "      <th>Louisiana</th>\n",
       "      <td>1999-01-01</td>\n",
       "      <td>22087.480469</td>\n",
       "      <td>22180.980469</td>\n",
       "    </tr>\n",
       "  </tbody>\n",
       "</table>\n",
       "</div>"
      ],
      "text/plain": [
       "                  ds             y       AutoETS\n",
       "unique_id                                       \n",
       "Louisiana 1998-01-01  23182.230469  22599.873047\n",
       "Louisiana 1998-04-01  20323.380859  21312.443359\n",
       "Louisiana 1998-07-01  19826.699219  20286.250000\n",
       "Louisiana 1998-10-01  20830.130859  20643.957031\n",
       "Louisiana 1999-01-01  22087.480469  22180.980469"
      ]
     },
     "execution_count": 97,
     "metadata": {},
     "output_type": "execute_result"
    }
   ],
   "source": [
    "Y_fitted_df.head() "
   ]
  },
  {
   "cell_type": "markdown",
   "metadata": {
    "id": "ni73hgjWTEwA"
   },
   "source": [
    "Reconcile the forecasts using a variety of reconcilling algorithms"
   ]
  },
  {
   "cell_type": "code",
   "execution_count": 17,
   "metadata": {
    "id": "JOVkT_b7TEwA"
   },
   "outputs": [],
   "source": [
    "from hierarchicalforecast.methods import BottomUp, MinTrace, TopDown, MiddleOut\n",
    "from hierarchicalforecast.core import HierarchicalReconciliation"
   ]
  },
  {
   "cell_type": "code",
   "execution_count": 18,
   "metadata": {
    "id": "G4r_5e4LTEwA"
   },
   "outputs": [],
   "source": [
    "reconcilers = [\n",
    "    TopDown(method='forecast_proportions'),\n",
    "    MiddleOut(middle_level='State/Region',\n",
    "              top_down_method='forecast_proportions'),\n",
    "    BottomUp(),\n",
    "    MinTrace(method='mint_shrink'),\n",
    "    MinTrace(method='ols')\n",
    "]\n",
    "hrec = HierarchicalReconciliation(reconcilers=reconcilers)\n",
    "Y_rec_df = hrec.reconcile(Y_hat_df=Y_hat_df, Y_df=Y_fitted_df, S=S_df, tags=tags)"
   ]
  },
  {
   "cell_type": "markdown",
   "metadata": {
    "id": "e893SshuTEwA"
   },
   "source": [
    "The dataframe `Y_rec_df` contains the reconciled forecasts on the test data."
   ]
  },
  {
   "cell_type": "code",
   "execution_count": 19,
   "metadata": {
    "colab": {
     "base_uri": "https://localhost:8080/",
     "height": 1000
    },
    "id": "97cym01ETEwA",
    "outputId": "7930e245-2a9e-42cd-d2dc-01569b4799e4"
   },
   "outputs": [
    {
     "data": {
      "text/html": [
       "<div>\n",
       "<style scoped>\n",
       "    .dataframe tbody tr th:only-of-type {\n",
       "        vertical-align: middle;\n",
       "    }\n",
       "\n",
       "    .dataframe tbody tr th {\n",
       "        vertical-align: top;\n",
       "    }\n",
       "\n",
       "    .dataframe thead th {\n",
       "        text-align: right;\n",
       "    }\n",
       "</style>\n",
       "<table border=\"1\" class=\"dataframe\">\n",
       "  <thead>\n",
       "    <tr style=\"text-align: right;\">\n",
       "      <th></th>\n",
       "      <th>ds</th>\n",
       "      <th>AutoETS</th>\n",
       "      <th>AutoETS/TopDown_method-forecast_proportions</th>\n",
       "      <th>AutoETS/MiddleOut_middle_level-State/Region_top_down_method-forecast_proportions</th>\n",
       "      <th>AutoETS/BottomUp</th>\n",
       "      <th>AutoETS/MinTrace_method-mint_shrink</th>\n",
       "      <th>AutoETS/MinTrace_method-ols</th>\n",
       "    </tr>\n",
       "    <tr>\n",
       "      <th>unique_id</th>\n",
       "      <th></th>\n",
       "      <th></th>\n",
       "      <th></th>\n",
       "      <th></th>\n",
       "      <th></th>\n",
       "      <th></th>\n",
       "      <th></th>\n",
       "    </tr>\n",
       "  </thead>\n",
       "  <tbody>\n",
       "    <tr>\n",
       "      <th>Louisiana</th>\n",
       "      <td>2016-01-01</td>\n",
       "      <td>26291.796875</td>\n",
       "      <td>26291.796875</td>\n",
       "      <td>25863.179688</td>\n",
       "      <td>25594.462891</td>\n",
       "      <td>25797.988964</td>\n",
       "      <td>26220.968699</td>\n",
       "    </tr>\n",
       "    <tr>\n",
       "      <th>Louisiana</th>\n",
       "      <td>2016-04-01</td>\n",
       "      <td>24458.884766</td>\n",
       "      <td>24458.884766</td>\n",
       "      <td>24168.992188</td>\n",
       "      <td>23890.505859</td>\n",
       "      <td>24132.837725</td>\n",
       "      <td>24407.525701</td>\n",
       "    </tr>\n",
       "    <tr>\n",
       "      <th>Louisiana</th>\n",
       "      <td>2016-07-01</td>\n",
       "      <td>23870.267578</td>\n",
       "      <td>23870.267578</td>\n",
       "      <td>23595.554688</td>\n",
       "      <td>23304.646484</td>\n",
       "      <td>23608.997587</td>\n",
       "      <td>23820.633369</td>\n",
       "    </tr>\n",
       "    <tr>\n",
       "      <th>Louisiana</th>\n",
       "      <td>2016-10-01</td>\n",
       "      <td>24587.351562</td>\n",
       "      <td>24587.351562</td>\n",
       "      <td>24287.082031</td>\n",
       "      <td>24076.539062</td>\n",
       "      <td>24327.654394</td>\n",
       "      <td>24536.936607</td>\n",
       "    </tr>\n",
       "    <tr>\n",
       "      <th>Louisiana</th>\n",
       "      <td>2017-01-01</td>\n",
       "      <td>26291.796875</td>\n",
       "      <td>26291.796875</td>\n",
       "      <td>25916.410156</td>\n",
       "      <td>25891.490234</td>\n",
       "      <td>26043.693817</td>\n",
       "      <td>26237.279967</td>\n",
       "    </tr>\n",
       "    <tr>\n",
       "      <th>Louisiana</th>\n",
       "      <td>2017-04-01</td>\n",
       "      <td>24458.884766</td>\n",
       "      <td>24458.884766</td>\n",
       "      <td>24222.222656</td>\n",
       "      <td>24149.085938</td>\n",
       "      <td>24358.153739</td>\n",
       "      <td>24422.463819</td>\n",
       "    </tr>\n",
       "    <tr>\n",
       "      <th>Louisiana</th>\n",
       "      <td>2017-07-01</td>\n",
       "      <td>23870.267578</td>\n",
       "      <td>23870.267578</td>\n",
       "      <td>23648.783203</td>\n",
       "      <td>23547.701172</td>\n",
       "      <td>23825.969456</td>\n",
       "      <td>23835.017021</td>\n",
       "    </tr>\n",
       "    <tr>\n",
       "      <th>Louisiana</th>\n",
       "      <td>2017-10-01</td>\n",
       "      <td>24587.351562</td>\n",
       "      <td>24587.351562</td>\n",
       "      <td>24340.310547</td>\n",
       "      <td>24328.416016</td>\n",
       "      <td>24549.712180</td>\n",
       "      <td>24551.635335</td>\n",
       "    </tr>\n",
       "    <tr>\n",
       "      <th>Louisiana/Acadiana</th>\n",
       "      <td>2016-01-01</td>\n",
       "      <td>1715.446045</td>\n",
       "      <td>1743.875244</td>\n",
       "      <td>1715.446045</td>\n",
       "      <td>1691.785400</td>\n",
       "      <td>1705.740636</td>\n",
       "      <td>1762.652009</td>\n",
       "    </tr>\n",
       "    <tr>\n",
       "      <th>Louisiana/Acadiana</th>\n",
       "      <td>2016-04-01</td>\n",
       "      <td>1566.923950</td>\n",
       "      <td>1585.718262</td>\n",
       "      <td>1566.923950</td>\n",
       "      <td>1536.867432</td>\n",
       "      <td>1557.000590</td>\n",
       "      <td>1597.929134</td>\n",
       "    </tr>\n",
       "    <tr>\n",
       "      <th>Louisiana/Acadiana</th>\n",
       "      <td>2016-07-01</td>\n",
       "      <td>1409.111938</td>\n",
       "      <td>1425.517700</td>\n",
       "      <td>1409.111938</td>\n",
       "      <td>1374.597900</td>\n",
       "      <td>1402.146697</td>\n",
       "      <td>1437.709070</td>\n",
       "    </tr>\n",
       "    <tr>\n",
       "      <th>Louisiana/Acadiana</th>\n",
       "      <td>2016-10-01</td>\n",
       "      <td>1599.215088</td>\n",
       "      <td>1618.986572</td>\n",
       "      <td>1599.215088</td>\n",
       "      <td>1576.854126</td>\n",
       "      <td>1602.541316</td>\n",
       "      <td>1631.436072</td>\n",
       "    </tr>\n",
       "    <tr>\n",
       "      <th>Louisiana/Acadiana</th>\n",
       "      <td>2017-01-01</td>\n",
       "      <td>1715.446045</td>\n",
       "      <td>1740.293579</td>\n",
       "      <td>1715.446045</td>\n",
       "      <td>1691.785400</td>\n",
       "      <td>1719.730692</td>\n",
       "      <td>1750.418557</td>\n",
       "    </tr>\n",
       "    <tr>\n",
       "      <th>Louisiana/Acadiana</th>\n",
       "      <td>2017-04-01</td>\n",
       "      <td>1566.923950</td>\n",
       "      <td>1582.233521</td>\n",
       "      <td>1566.923950</td>\n",
       "      <td>1536.867432</td>\n",
       "      <td>1569.789232</td>\n",
       "      <td>1586.725546</td>\n",
       "    </tr>\n",
       "    <tr>\n",
       "      <th>Louisiana/Acadiana</th>\n",
       "      <td>2017-07-01</td>\n",
       "      <td>1409.111938</td>\n",
       "      <td>1422.308960</td>\n",
       "      <td>1409.111938</td>\n",
       "      <td>1374.597900</td>\n",
       "      <td>1414.440143</td>\n",
       "      <td>1426.921332</td>\n",
       "    </tr>\n",
       "    <tr>\n",
       "      <th>Louisiana/Acadiana</th>\n",
       "      <td>2017-10-01</td>\n",
       "      <td>1599.215088</td>\n",
       "      <td>1615.446167</td>\n",
       "      <td>1599.215088</td>\n",
       "      <td>1576.854126</td>\n",
       "      <td>1615.147323</td>\n",
       "      <td>1620.412026</td>\n",
       "    </tr>\n",
       "    <tr>\n",
       "      <th>Louisiana/Bayou</th>\n",
       "      <td>2016-01-01</td>\n",
       "      <td>5179.101074</td>\n",
       "      <td>5264.931641</td>\n",
       "      <td>5179.101074</td>\n",
       "      <td>5094.045410</td>\n",
       "      <td>5153.834130</td>\n",
       "      <td>5210.958275</td>\n",
       "    </tr>\n",
       "    <tr>\n",
       "      <th>Louisiana/Bayou</th>\n",
       "      <td>2016-04-01</td>\n",
       "      <td>5397.524902</td>\n",
       "      <td>5462.265137</td>\n",
       "      <td>5397.524902</td>\n",
       "      <td>5306.833984</td>\n",
       "      <td>5393.244015</td>\n",
       "      <td>5413.371563</td>\n",
       "    </tr>\n",
       "    <tr>\n",
       "      <th>Louisiana/Bayou</th>\n",
       "      <td>2016-07-01</td>\n",
       "      <td>5808.414062</td>\n",
       "      <td>5876.039062</td>\n",
       "      <td>5808.414062</td>\n",
       "      <td>5693.464844</td>\n",
       "      <td>5817.931905</td>\n",
       "      <td>5816.902353</td>\n",
       "    </tr>\n",
       "    <tr>\n",
       "      <th>Louisiana/Bayou</th>\n",
       "      <td>2016-10-01</td>\n",
       "      <td>5402.607910</td>\n",
       "      <td>5469.401855</td>\n",
       "      <td>5402.607910</td>\n",
       "      <td>5259.325195</td>\n",
       "      <td>5375.474355</td>\n",
       "      <td>5404.598387</td>\n",
       "    </tr>\n",
       "  </tbody>\n",
       "</table>\n",
       "</div>"
      ],
      "text/plain": [
       "                           ds       AutoETS  \\\n",
       "unique_id                                     \n",
       "Louisiana          2016-01-01  26291.796875   \n",
       "Louisiana          2016-04-01  24458.884766   \n",
       "Louisiana          2016-07-01  23870.267578   \n",
       "Louisiana          2016-10-01  24587.351562   \n",
       "Louisiana          2017-01-01  26291.796875   \n",
       "Louisiana          2017-04-01  24458.884766   \n",
       "Louisiana          2017-07-01  23870.267578   \n",
       "Louisiana          2017-10-01  24587.351562   \n",
       "Louisiana/Acadiana 2016-01-01   1715.446045   \n",
       "Louisiana/Acadiana 2016-04-01   1566.923950   \n",
       "Louisiana/Acadiana 2016-07-01   1409.111938   \n",
       "Louisiana/Acadiana 2016-10-01   1599.215088   \n",
       "Louisiana/Acadiana 2017-01-01   1715.446045   \n",
       "Louisiana/Acadiana 2017-04-01   1566.923950   \n",
       "Louisiana/Acadiana 2017-07-01   1409.111938   \n",
       "Louisiana/Acadiana 2017-10-01   1599.215088   \n",
       "Louisiana/Bayou    2016-01-01   5179.101074   \n",
       "Louisiana/Bayou    2016-04-01   5397.524902   \n",
       "Louisiana/Bayou    2016-07-01   5808.414062   \n",
       "Louisiana/Bayou    2016-10-01   5402.607910   \n",
       "\n",
       "                    AutoETS/TopDown_method-forecast_proportions  \\\n",
       "unique_id                                                         \n",
       "Louisiana                                          26291.796875   \n",
       "Louisiana                                          24458.884766   \n",
       "Louisiana                                          23870.267578   \n",
       "Louisiana                                          24587.351562   \n",
       "Louisiana                                          26291.796875   \n",
       "Louisiana                                          24458.884766   \n",
       "Louisiana                                          23870.267578   \n",
       "Louisiana                                          24587.351562   \n",
       "Louisiana/Acadiana                                  1743.875244   \n",
       "Louisiana/Acadiana                                  1585.718262   \n",
       "Louisiana/Acadiana                                  1425.517700   \n",
       "Louisiana/Acadiana                                  1618.986572   \n",
       "Louisiana/Acadiana                                  1740.293579   \n",
       "Louisiana/Acadiana                                  1582.233521   \n",
       "Louisiana/Acadiana                                  1422.308960   \n",
       "Louisiana/Acadiana                                  1615.446167   \n",
       "Louisiana/Bayou                                     5264.931641   \n",
       "Louisiana/Bayou                                     5462.265137   \n",
       "Louisiana/Bayou                                     5876.039062   \n",
       "Louisiana/Bayou                                     5469.401855   \n",
       "\n",
       "                    AutoETS/MiddleOut_middle_level-State/Region_top_down_method-forecast_proportions  \\\n",
       "unique_id                                                                                              \n",
       "Louisiana                                                25863.179688                                  \n",
       "Louisiana                                                24168.992188                                  \n",
       "Louisiana                                                23595.554688                                  \n",
       "Louisiana                                                24287.082031                                  \n",
       "Louisiana                                                25916.410156                                  \n",
       "Louisiana                                                24222.222656                                  \n",
       "Louisiana                                                23648.783203                                  \n",
       "Louisiana                                                24340.310547                                  \n",
       "Louisiana/Acadiana                                        1715.446045                                  \n",
       "Louisiana/Acadiana                                        1566.923950                                  \n",
       "Louisiana/Acadiana                                        1409.111938                                  \n",
       "Louisiana/Acadiana                                        1599.215088                                  \n",
       "Louisiana/Acadiana                                        1715.446045                                  \n",
       "Louisiana/Acadiana                                        1566.923950                                  \n",
       "Louisiana/Acadiana                                        1409.111938                                  \n",
       "Louisiana/Acadiana                                        1599.215088                                  \n",
       "Louisiana/Bayou                                           5179.101074                                  \n",
       "Louisiana/Bayou                                           5397.524902                                  \n",
       "Louisiana/Bayou                                           5808.414062                                  \n",
       "Louisiana/Bayou                                           5402.607910                                  \n",
       "\n",
       "                    AutoETS/BottomUp  AutoETS/MinTrace_method-mint_shrink  \\\n",
       "unique_id                                                                   \n",
       "Louisiana               25594.462891                         25797.988964   \n",
       "Louisiana               23890.505859                         24132.837725   \n",
       "Louisiana               23304.646484                         23608.997587   \n",
       "Louisiana               24076.539062                         24327.654394   \n",
       "Louisiana               25891.490234                         26043.693817   \n",
       "Louisiana               24149.085938                         24358.153739   \n",
       "Louisiana               23547.701172                         23825.969456   \n",
       "Louisiana               24328.416016                         24549.712180   \n",
       "Louisiana/Acadiana       1691.785400                          1705.740636   \n",
       "Louisiana/Acadiana       1536.867432                          1557.000590   \n",
       "Louisiana/Acadiana       1374.597900                          1402.146697   \n",
       "Louisiana/Acadiana       1576.854126                          1602.541316   \n",
       "Louisiana/Acadiana       1691.785400                          1719.730692   \n",
       "Louisiana/Acadiana       1536.867432                          1569.789232   \n",
       "Louisiana/Acadiana       1374.597900                          1414.440143   \n",
       "Louisiana/Acadiana       1576.854126                          1615.147323   \n",
       "Louisiana/Bayou          5094.045410                          5153.834130   \n",
       "Louisiana/Bayou          5306.833984                          5393.244015   \n",
       "Louisiana/Bayou          5693.464844                          5817.931905   \n",
       "Louisiana/Bayou          5259.325195                          5375.474355   \n",
       "\n",
       "                    AutoETS/MinTrace_method-ols  \n",
       "unique_id                                        \n",
       "Louisiana                          26220.968699  \n",
       "Louisiana                          24407.525701  \n",
       "Louisiana                          23820.633369  \n",
       "Louisiana                          24536.936607  \n",
       "Louisiana                          26237.279967  \n",
       "Louisiana                          24422.463819  \n",
       "Louisiana                          23835.017021  \n",
       "Louisiana                          24551.635335  \n",
       "Louisiana/Acadiana                  1762.652009  \n",
       "Louisiana/Acadiana                  1597.929134  \n",
       "Louisiana/Acadiana                  1437.709070  \n",
       "Louisiana/Acadiana                  1631.436072  \n",
       "Louisiana/Acadiana                  1750.418557  \n",
       "Louisiana/Acadiana                  1586.725546  \n",
       "Louisiana/Acadiana                  1426.921332  \n",
       "Louisiana/Acadiana                  1620.412026  \n",
       "Louisiana/Bayou                     5210.958275  \n",
       "Louisiana/Bayou                     5413.371563  \n",
       "Louisiana/Bayou                     5816.902353  \n",
       "Louisiana/Bayou                     5404.598387  "
      ]
     },
     "execution_count": 19,
     "metadata": {},
     "output_type": "execute_result"
    }
   ],
   "source": [
    "Y_rec_df.head(20)"
   ]
  },
  {
   "cell_type": "markdown",
   "metadata": {
    "id": "4HuuoancTEwA"
   },
   "source": [
    "Evaluate the Forecast using RMSE, MASE, MAPE and MSE metricts"
   ]
  },
  {
   "cell_type": "code",
   "execution_count": 20,
   "metadata": {
    "id": "gUpkdk2wTEwA"
   },
   "outputs": [],
   "source": [
    "from hierarchicalforecast.evaluation import HierarchicalEvaluation"
   ]
  },
  {
   "cell_type": "code",
   "execution_count": 1,
   "metadata": {
    "colab": {
     "base_uri": "https://localhost:8080/"
    },
    "id": "xKg6BwG4TEwA",
    "outputId": "5ac45963-b13e-4224-91b1-0eb016b6602c"
   },
   "outputs": [
    {
     "ename": "NameError",
     "evalue": "name 'tags' is not defined",
     "output_type": "error",
     "traceback": [
      "\u001b[1;31m---------------------------------------------------------------------------\u001b[0m",
      "\u001b[1;31mNameError\u001b[0m                                 Traceback (most recent call last)",
      "Cell \u001b[1;32mIn[1], line 16\u001b[0m\n\u001b[0;32m     13\u001b[0m     \u001b[38;5;28;01mreturn\u001b[39;00m np\u001b[38;5;241m.\u001b[39mmean((y\u001b[38;5;241m-\u001b[39my_hat)\u001b[38;5;241m*\u001b[39m\u001b[38;5;241m*\u001b[39m\u001b[38;5;241m2\u001b[39m)\n\u001b[0;32m     15\u001b[0m eval_tags \u001b[38;5;241m=\u001b[39m {}\n\u001b[1;32m---> 16\u001b[0m eval_tags[\u001b[38;5;124m'\u001b[39m\u001b[38;5;124mState\u001b[39m\u001b[38;5;124m'\u001b[39m] \u001b[38;5;241m=\u001b[39m tags[\u001b[38;5;124m'\u001b[39m\u001b[38;5;124mState\u001b[39m\u001b[38;5;124m'\u001b[39m]\n\u001b[0;32m     17\u001b[0m eval_tags[\u001b[38;5;124m'\u001b[39m\u001b[38;5;124mRegions\u001b[39m\u001b[38;5;124m'\u001b[39m] \u001b[38;5;241m=\u001b[39m tags[\u001b[38;5;124m'\u001b[39m\u001b[38;5;124mState/Region\u001b[39m\u001b[38;5;124m'\u001b[39m]\n\u001b[0;32m     18\u001b[0m eval_tags[\u001b[38;5;124m'\u001b[39m\u001b[38;5;124mBottom\u001b[39m\u001b[38;5;124m'\u001b[39m] \u001b[38;5;241m=\u001b[39m tags[\u001b[38;5;124m'\u001b[39m\u001b[38;5;124mState/Region/Product\u001b[39m\u001b[38;5;124m'\u001b[39m]\n",
      "\u001b[1;31mNameError\u001b[0m: name 'tags' is not defined"
     ]
    }
   ],
   "source": [
    "def rmse(y, y_hat):\n",
    "    return np.mean(np.sqrt(np.mean((y-y_hat)**2, axis=1)))\n",
    "\n",
    "def mase(y, y_hat, y_insample, seasonality=4):\n",
    "    errors = np.mean(np.abs(y - y_hat), axis=1)\n",
    "    scale = np.mean(np.abs(y_insample[:, seasonality:] - y_insample[:, :-seasonality]), axis=1)\n",
    "    return np.mean(errors / scale)\n",
    "\n",
    "def mape(y, y_hat):\n",
    "    return np.mean((y-y_hat)/y)\n",
    "\n",
    "def mse(y, y_hat):\n",
    "    return np.mean((y-y_hat)**2)\n",
    "\n",
    "eval_tags = {}\n",
    "eval_tags['State'] = tags['State']\n",
    "eval_tags['Regions'] = tags['State/Region']\n",
    "eval_tags['Bottom'] = tags['State/Region/Product']\n",
    "eval_tags['All'] = np.concatenate(list(tags.values()))\n",
    "\n",
    "evaluator = HierarchicalEvaluation(evaluators=[rmse, mase,mape,mse])\n",
    "evaluation = evaluator.evaluate(\n",
    "        Y_hat_df=Y_rec_df, Y_test_df=Y_test_df,\n",
    "        tags=eval_tags, Y_df=Y_train_df\n",
    ")\n",
    "evaluation = evaluation.drop('Overall')\n",
    "evaluation.columns = ['Base', 'TopDown','MiddleOut','BottomUp', 'MinTrace(mint_shrink)', 'MinTrace(ols)']\n",
    "evaluation = evaluation.applymap('{:.2f}'.format)"
   ]
  },
  {
   "cell_type": "markdown",
   "metadata": {
    "id": "r1F1oYg6TEwA"
   },
   "source": [
    "Root Mean Squared Error"
   ]
  },
  {
   "cell_type": "code",
   "execution_count": 59,
   "metadata": {
    "colab": {
     "base_uri": "https://localhost:8080/",
     "height": 206
    },
    "id": "eF8a_XTDTEwA",
    "outputId": "6c7aed08-c2cd-40f9-8e8f-829220778f45"
   },
   "outputs": [
    {
     "data": {
      "text/html": [
       "<div>\n",
       "<style scoped>\n",
       "    .dataframe tbody tr th:only-of-type {\n",
       "        vertical-align: middle;\n",
       "    }\n",
       "\n",
       "    .dataframe tbody tr th {\n",
       "        vertical-align: top;\n",
       "    }\n",
       "\n",
       "    .dataframe thead th {\n",
       "        text-align: right;\n",
       "    }\n",
       "</style>\n",
       "<table border=\"1\" class=\"dataframe\">\n",
       "  <thead>\n",
       "    <tr style=\"text-align: right;\">\n",
       "      <th></th>\n",
       "      <th>level</th>\n",
       "      <th>metric</th>\n",
       "      <th>Base</th>\n",
       "      <th>TopDown</th>\n",
       "      <th>MiddleOut</th>\n",
       "      <th>BottomUp</th>\n",
       "      <th>MinTrace(mint_shrink)</th>\n",
       "      <th>MinTrace(ols)</th>\n",
       "    </tr>\n",
       "  </thead>\n",
       "  <tbody>\n",
       "    <tr>\n",
       "      <th>0</th>\n",
       "      <td>State</td>\n",
       "      <td>rmse</td>\n",
       "      <td>1715.47</td>\n",
       "      <td>1715.47</td>\n",
       "      <td>1938.83</td>\n",
       "      <td>2033.64</td>\n",
       "      <td>1831.24</td>\n",
       "      <td>1748.52</td>\n",
       "    </tr>\n",
       "    <tr>\n",
       "      <th>1</th>\n",
       "      <td>Regions</td>\n",
       "      <td>rmse</td>\n",
       "      <td>298.40</td>\n",
       "      <td>278.29</td>\n",
       "      <td>298.40</td>\n",
       "      <td>299.40</td>\n",
       "      <td>282.69</td>\n",
       "      <td>282.03</td>\n",
       "    </tr>\n",
       "    <tr>\n",
       "      <th>2</th>\n",
       "      <td>Bottom</td>\n",
       "      <td>rmse</td>\n",
       "      <td>118.63</td>\n",
       "      <td>113.06</td>\n",
       "      <td>118.95</td>\n",
       "      <td>118.63</td>\n",
       "      <td>114.15</td>\n",
       "      <td>114.19</td>\n",
       "    </tr>\n",
       "    <tr>\n",
       "      <th>3</th>\n",
       "      <td>All</td>\n",
       "      <td>rmse</td>\n",
       "      <td>210.60</td>\n",
       "      <td>201.67</td>\n",
       "      <td>217.60</td>\n",
       "      <td>220.48</td>\n",
       "      <td>207.04</td>\n",
       "      <td>204.40</td>\n",
       "    </tr>\n",
       "  </tbody>\n",
       "</table>\n",
       "</div>"
      ],
      "text/plain": [
       "     level metric     Base  TopDown MiddleOut BottomUp MinTrace(mint_shrink)  \\\n",
       "0    State   rmse  1715.47  1715.47   1938.83  2033.64               1831.24   \n",
       "1  Regions   rmse   298.40   278.29    298.40   299.40                282.69   \n",
       "2   Bottom   rmse   118.63   113.06    118.95   118.63                114.15   \n",
       "3      All   rmse   210.60   201.67    217.60   220.48                207.04   \n",
       "\n",
       "  MinTrace(ols)  \n",
       "0       1748.52  \n",
       "1        282.03  \n",
       "2        114.19  \n",
       "3        204.40  "
      ]
     },
     "execution_count": 59,
     "metadata": {},
     "output_type": "execute_result"
    }
   ],
   "source": [
    "evaluation.query('metric == \"rmse\"').reset_index()"
   ]
  },
  {
   "cell_type": "markdown",
   "metadata": {
    "id": "-8LzQnXGTEwA"
   },
   "source": [
    "Mean Absolute Scaled Error"
   ]
  },
  {
   "cell_type": "code",
   "execution_count": 60,
   "metadata": {
    "colab": {
     "base_uri": "https://localhost:8080/",
     "height": 206
    },
    "id": "ficQ-z0ETEwB",
    "outputId": "ee36dc64-e644-461e-e746-dcbf11cd907f"
   },
   "outputs": [
    {
     "data": {
      "text/html": [
       "<div>\n",
       "<style scoped>\n",
       "    .dataframe tbody tr th:only-of-type {\n",
       "        vertical-align: middle;\n",
       "    }\n",
       "\n",
       "    .dataframe tbody tr th {\n",
       "        vertical-align: top;\n",
       "    }\n",
       "\n",
       "    .dataframe thead th {\n",
       "        text-align: right;\n",
       "    }\n",
       "</style>\n",
       "<table border=\"1\" class=\"dataframe\">\n",
       "  <thead>\n",
       "    <tr style=\"text-align: right;\">\n",
       "      <th></th>\n",
       "      <th>level</th>\n",
       "      <th>metric</th>\n",
       "      <th>Base</th>\n",
       "      <th>TopDown</th>\n",
       "      <th>MiddleOut</th>\n",
       "      <th>BottomUp</th>\n",
       "      <th>MinTrace(mint_shrink)</th>\n",
       "      <th>MinTrace(ols)</th>\n",
       "    </tr>\n",
       "  </thead>\n",
       "  <tbody>\n",
       "    <tr>\n",
       "      <th>0</th>\n",
       "      <td>State</td>\n",
       "      <td>mase</td>\n",
       "      <td>1.53</td>\n",
       "      <td>1.53</td>\n",
       "      <td>1.81</td>\n",
       "      <td>1.98</td>\n",
       "      <td>1.72</td>\n",
       "      <td>1.57</td>\n",
       "    </tr>\n",
       "    <tr>\n",
       "      <th>1</th>\n",
       "      <td>Regions</td>\n",
       "      <td>mase</td>\n",
       "      <td>1.31</td>\n",
       "      <td>1.20</td>\n",
       "      <td>1.31</td>\n",
       "      <td>1.39</td>\n",
       "      <td>1.26</td>\n",
       "      <td>1.19</td>\n",
       "    </tr>\n",
       "    <tr>\n",
       "      <th>2</th>\n",
       "      <td>Bottom</td>\n",
       "      <td>mase</td>\n",
       "      <td>1.17</td>\n",
       "      <td>1.09</td>\n",
       "      <td>1.13</td>\n",
       "      <td>1.17</td>\n",
       "      <td>1.10</td>\n",
       "      <td>1.08</td>\n",
       "    </tr>\n",
       "    <tr>\n",
       "      <th>3</th>\n",
       "      <td>All</td>\n",
       "      <td>mase</td>\n",
       "      <td>1.21</td>\n",
       "      <td>1.13</td>\n",
       "      <td>1.20</td>\n",
       "      <td>1.25</td>\n",
       "      <td>1.16</td>\n",
       "      <td>1.12</td>\n",
       "    </tr>\n",
       "  </tbody>\n",
       "</table>\n",
       "</div>"
      ],
      "text/plain": [
       "     level metric  Base TopDown MiddleOut BottomUp MinTrace(mint_shrink)  \\\n",
       "0    State   mase  1.53    1.53      1.81     1.98                  1.72   \n",
       "1  Regions   mase  1.31    1.20      1.31     1.39                  1.26   \n",
       "2   Bottom   mase  1.17    1.09      1.13     1.17                  1.10   \n",
       "3      All   mase  1.21    1.13      1.20     1.25                  1.16   \n",
       "\n",
       "  MinTrace(ols)  \n",
       "0          1.57  \n",
       "1          1.19  \n",
       "2          1.08  \n",
       "3          1.12  "
      ]
     },
     "execution_count": 60,
     "metadata": {},
     "output_type": "execute_result"
    }
   ],
   "source": [
    "evaluation.query('metric == \"mase\"').reset_index()"
   ]
  },
  {
   "cell_type": "markdown",
   "metadata": {},
   "source": [
    "Mean Absolute Percentage Error"
   ]
  },
  {
   "cell_type": "code",
   "execution_count": 2,
   "metadata": {},
   "outputs": [
    {
     "ename": "NameError",
     "evalue": "name 'evaluation' is not defined",
     "output_type": "error",
     "traceback": [
      "\u001b[1;31m---------------------------------------------------------------------------\u001b[0m",
      "\u001b[1;31mNameError\u001b[0m                                 Traceback (most recent call last)",
      "Cell \u001b[1;32mIn[2], line 1\u001b[0m\n\u001b[1;32m----> 1\u001b[0m evaluation\u001b[38;5;241m.\u001b[39mquery(\u001b[38;5;124m'\u001b[39m\u001b[38;5;124mmetric == \u001b[39m\u001b[38;5;124m\"\u001b[39m\u001b[38;5;124mmape\u001b[39m\u001b[38;5;124m\"\u001b[39m\u001b[38;5;124m'\u001b[39m)\u001b[38;5;241m.\u001b[39mreset_index()\n",
      "\u001b[1;31mNameError\u001b[0m: name 'evaluation' is not defined"
     ]
    }
   ],
   "source": [
    "evaluation.query('metric == \"mape\"').reset_index()"
   ]
  },
  {
   "cell_type": "markdown",
   "metadata": {},
   "source": [
    "Mean Squared Error"
   ]
  },
  {
   "cell_type": "code",
   "execution_count": 62,
   "metadata": {},
   "outputs": [
    {
     "data": {
      "text/html": [
       "<div>\n",
       "<style scoped>\n",
       "    .dataframe tbody tr th:only-of-type {\n",
       "        vertical-align: middle;\n",
       "    }\n",
       "\n",
       "    .dataframe tbody tr th {\n",
       "        vertical-align: top;\n",
       "    }\n",
       "\n",
       "    .dataframe thead th {\n",
       "        text-align: right;\n",
       "    }\n",
       "</style>\n",
       "<table border=\"1\" class=\"dataframe\">\n",
       "  <thead>\n",
       "    <tr style=\"text-align: right;\">\n",
       "      <th></th>\n",
       "      <th>level</th>\n",
       "      <th>metric</th>\n",
       "      <th>Base</th>\n",
       "      <th>TopDown</th>\n",
       "      <th>MiddleOut</th>\n",
       "      <th>BottomUp</th>\n",
       "      <th>MinTrace(mint_shrink)</th>\n",
       "      <th>MinTrace(ols)</th>\n",
       "    </tr>\n",
       "  </thead>\n",
       "  <tbody>\n",
       "    <tr>\n",
       "      <th>0</th>\n",
       "      <td>State</td>\n",
       "      <td>mse</td>\n",
       "      <td>2942847.06</td>\n",
       "      <td>2942847.06</td>\n",
       "      <td>3759076.10</td>\n",
       "      <td>4135704.54</td>\n",
       "      <td>3353444.43</td>\n",
       "      <td>3057306.88</td>\n",
       "    </tr>\n",
       "    <tr>\n",
       "      <th>1</th>\n",
       "      <td>Regions</td>\n",
       "      <td>mse</td>\n",
       "      <td>154317.57</td>\n",
       "      <td>131005.87</td>\n",
       "      <td>154317.57</td>\n",
       "      <td>142817.71</td>\n",
       "      <td>134163.96</td>\n",
       "      <td>137908.09</td>\n",
       "    </tr>\n",
       "    <tr>\n",
       "      <th>2</th>\n",
       "      <td>Bottom</td>\n",
       "      <td>mse</td>\n",
       "      <td>22182.88</td>\n",
       "      <td>20953.05</td>\n",
       "      <td>23726.26</td>\n",
       "      <td>22182.88</td>\n",
       "      <td>21127.82</td>\n",
       "      <td>21637.37</td>\n",
       "    </tr>\n",
       "    <tr>\n",
       "      <th>3</th>\n",
       "      <td>All</td>\n",
       "      <td>mse</td>\n",
       "      <td>142720.51</td>\n",
       "      <td>136174.76</td>\n",
       "      <td>168577.18</td>\n",
       "      <td>176079.86</td>\n",
       "      <td>149509.81</td>\n",
       "      <td>141814.19</td>\n",
       "    </tr>\n",
       "  </tbody>\n",
       "</table>\n",
       "</div>"
      ],
      "text/plain": [
       "     level metric        Base     TopDown   MiddleOut    BottomUp  \\\n",
       "0    State    mse  2942847.06  2942847.06  3759076.10  4135704.54   \n",
       "1  Regions    mse   154317.57   131005.87   154317.57   142817.71   \n",
       "2   Bottom    mse    22182.88    20953.05    23726.26    22182.88   \n",
       "3      All    mse   142720.51   136174.76   168577.18   176079.86   \n",
       "\n",
       "  MinTrace(mint_shrink) MinTrace(ols)  \n",
       "0            3353444.43    3057306.88  \n",
       "1             134163.96     137908.09  \n",
       "2              21127.82      21637.37  \n",
       "3             149509.81     141814.19  "
      ]
     },
     "execution_count": 62,
     "metadata": {},
     "output_type": "execute_result"
    }
   ],
   "source": [
    "evaluation.query('metric == \"mse\"').reset_index()"
   ]
  },
  {
   "cell_type": "markdown",
   "metadata": {
    "id": "B_j0Icr0TEwB"
   },
   "source": [
    "### References\n",
    "- [Forecast Reconcilation with Austrailian Domestic Tourism](https://colab.research.google.com/github/Nixtla/hierarchicalforecast/blob/main/nbs/examples/AustralianDomesticTourism.ipynb)\n",
    "- [Hyndman, R.J., & Athanasopoulos, G. (2021). \"Forecasting: principles and practice, 3rd edition:\n",
    "Chapter 11: Forecasting hierarchical and grouped series.\". OTexts: Melbourne, Australia. OTexts.com/fpp3\n",
    "Accessed on July 2022.](https://otexts.com/fpp3/hierarchical.html)\n",
    "- [Rob Hyndman, Alan Lee, Earo Wang, Shanika Wickramasuriya, and Maintainer Earo Wang (2021). \"hts: Hierarchical and Grouped Time Series\". URL https://CRAN.R-project.org/package=hts. R package version 0.3.1.](https://cran.r-project.org/web/packages/hts/index.html)\n",
    "- [Mitchell O’Hara-Wild, Rob Hyndman, Earo Wang, Gabriel Caceres, Tim-Gunnar Hensel, and Timothy Hyndman (2021). \"fable: Forecasting Models for Tidy Time Series\". URL https://CRAN.R-project.org/package=fable. R package version 6.0.2.](https://CRAN.R-project.org/package=fable)"
   ]
  }
 ],
 "metadata": {
  "colab": {
   "provenance": []
  },
  "kernelspec": {
   "display_name": "Python 3 (ipykernel)",
   "language": "python",
   "name": "python3"
  },
  "language_info": {
   "codemirror_mode": {
    "name": "ipython",
    "version": 3
   },
   "file_extension": ".py",
   "mimetype": "text/x-python",
   "name": "python",
   "nbconvert_exporter": "python",
   "pygments_lexer": "ipython3",
   "version": "3.11.5"
  }
 },
 "nbformat": 4,
 "nbformat_minor": 1
}
